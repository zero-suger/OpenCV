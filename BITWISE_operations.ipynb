{
  "nbformat": 4,
  "nbformat_minor": 0,
  "metadata": {
    "colab": {
      "provenance": []
    },
    "kernelspec": {
      "name": "python3",
      "display_name": "Python 3"
    },
    "language_info": {
      "name": "python"
    }
  },
  "cells": [
    {
      "cell_type": "markdown",
      "source": [
        "https://pyimagesearch.com/2021/01/19/opencv-bitwise-and-or-xor-and-not/"
      ],
      "metadata": {
        "id": "r-YV3DFFMpNL"
      }
    },
    {
      "cell_type": "code",
      "execution_count": 2,
      "metadata": {
        "colab": {
          "base_uri": "https://localhost:8080/",
          "height": 1000
        },
        "id": "AiE5evBTJeHn",
        "outputId": "0c3c4d50-ad8d-4af4-9185-a6137e492a0f"
      },
      "outputs": [
        {
          "output_type": "display_data",
          "data": {
            "text/plain": [
              "<PIL.Image.Image image mode=L size=500x500 at 0x7FB87199ACE0>"
            ],
            "image/png": "[encoded data removed]"
          },
          "metadata": {}
        },
        {
          "output_type": "display_data",
          "data": {
            "text/plain": [
              "<PIL.Image.Image image mode=L size=500x500 at 0x7FB87199B100>"
            ],
            "image/png": "[encoded data removed]"
          },
          "metadata": {}
        }
      ],
      "source": [
        "import numpy as np\n",
        "import cv2\n",
        "from google.colab.patches import cv2_imshow\n",
        "\n",
        "\n",
        "blank = np.zeros((500,500), dtype = 'uint8')\n",
        "\n",
        "rectangle_shape = cv2.rectangle(blank.copy(), (40,40),(390,390), 255, -1)\n",
        "\n",
        "circle_shape = cv2.circle(blank.copy(), (210,210),200, 255,-1)\n",
        "\n",
        "cv2_imshow(rectangle_shape)\n",
        "cv2_imshow(circle_shape)\n"
      ]
    },
    {
      "cell_type": "code",
      "source": [
        "# and BITWISE operator which gets all intersection area of given shape\n",
        "\n",
        "and_bitwise = cv2.bitwise_and(circle_shape, rectangle_shape)\n",
        "\n",
        "cv2_imshow(and_bitwise)"
      ],
      "metadata": {
        "colab": {
          "base_uri": "https://localhost:8080/",
          "height": 517
        },
        "id": "z9sbc7BcL97V",
        "outputId": "7a613d3c-e232-4ce8-be0a-b616dbf16a66"
      },
      "execution_count": 4,
      "outputs": [
        {
          "output_type": "display_data",
          "data": {
            "text/plain": [
              "<PIL.Image.Image image mode=L size=500x500 at 0x7FB841AFEEF0>"
            ],
            "image/png": "[encoded data removed]"
          },
          "metadata": {}
        }
      ]
    },
    {
      "cell_type": "code",
      "source": [
        "# or bitwise\n",
        "\n",
        "or_bitwise = cv2.bitwise_or(circle_shape, rectangle_shape)\n",
        "\n",
        "cv2_imshow(or_bitwise)"
      ],
      "metadata": {
        "colab": {
          "base_uri": "https://localhost:8080/",
          "height": 517
        },
        "id": "9e7dwQ_BMZE7",
        "outputId": "7665e8e4-c02c-4b10-a69b-a6d70ce05ea7"
      },
      "execution_count": 5,
      "outputs": [
        {
          "output_type": "display_data",
          "data": {
            "text/plain": [
              "<PIL.Image.Image image mode=L size=500x500 at 0x7FB841AFF3A0>"
            ],
            "image/png": "[encoded data removed]"
          },
          "metadata": {}
        }
      ]
    },
    {
      "cell_type": "code",
      "source": [
        "# bitwise XOR which gets not intersection\n",
        "\n",
        "xor_bitwise = cv2.bitwise_xor(circle_shape, rectangle_shape)\n",
        "\n",
        "cv2_imshow(xor_bitwise)"
      ],
      "metadata": {
        "colab": {
          "base_uri": "https://localhost:8080/",
          "height": 517
        },
        "id": "yc5Ng7snM3gV",
        "outputId": "46a4fdba-4ad5-4a6b-80a9-51e9deb3d0ee"
      },
      "execution_count": 6,
      "outputs": [
        {
          "output_type": "display_data",
          "data": {
            "text/plain": [
              "<PIL.Image.Image image mode=L size=500x500 at 0x7FB841AFC130>"
            ],
            "image/png": "[encoded data removed]"
          },
          "metadata": {}
        }
      ]
    },
    {
      "cell_type": "code",
      "source": [
        "# bitwise not \n",
        "\n",
        "not_bitwise = cv2.bitwise_not(rectangle_shape)\n",
        "\n",
        "cv2_imshow(not_bitwise)"
      ],
      "metadata": {
        "colab": {
          "base_uri": "https://localhost:8080/",
          "height": 517
        },
        "id": "CNCL4nDrNYex",
        "outputId": "bb552654-72cc-47d3-db3d-e935c78c99eb"
      },
      "execution_count": 8,
      "outputs": [
        {
          "output_type": "display_data",
          "data": {
            "text/plain": [
              "<PIL.Image.Image image mode=L size=500x500 at 0x7FB841AFD000>"
            ],
            "image/png": "[encoded data removed]"
          },
          "metadata": {}
        }
      ]
    },
    {
      "cell_type": "code",
      "source": [],
      "metadata": {
        "id": "zDlSOKUBNmdD"
      },
      "execution_count": null,
      "outputs": []
    }
  ]
}