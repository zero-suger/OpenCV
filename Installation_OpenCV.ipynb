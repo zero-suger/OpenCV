{
  "nbformat": 4,
  "nbformat_minor": 0,
  "metadata": {
    "colab": {
      "provenance": []
    },
    "kernelspec": {
      "name": "python3",
      "display_name": "Python 3"
    },
    "language_info": {
      "name": "python"
    }
  },
  "cells": [
    {
      "cell_type": "markdown",
      "source": [
        "# **OpenCV** : https://opencv.org/\n",
        "\n",
        "OpenCV is a library of programming functions mainly for real-time computer vision."
      ],
      "metadata": {
        "id": "n3uzBU1VGCI6"
      }
    },
    {
      "cell_type": "markdown",
      "source": [
        "1st : Checking the Python Version\n",
        "\n",
        "**python --version**\n",
        "\n",
        "*if it is not available :* https://www.python.org/downloads/\n",
        "\n",
        "2nd : Install OpenCV\n",
        "\n",
        "**pip install opencv-contrib-python:** *which install all OpenCV and community fields.*\n",
        "\n",
        "**pip install opencv-python:** install only main OpenCV\n",
        "\n",
        "3rd : Install Caer Library\n",
        "\n",
        "**pip install caer:**Caer is a lightweight, high-performance Vision library for high-performance AI research. (https://pypi.org/project/caer/)\n"
      ],
      "metadata": {
        "id": "q_uVyN-XD-Yw"
      }
    }
  ]
}